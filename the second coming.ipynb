{
 "cells": [
  {
   "cell_type": "code",
   "execution_count": 1,
   "id": "ede86461-9bf1-4b4d-9e56-e4a69da236d8",
   "metadata": {},
   "outputs": [
    {
     "data": {
      "text/html": [
       "<div>\n",
       "<style scoped>\n",
       "    .dataframe tbody tr th:only-of-type {\n",
       "        vertical-align: middle;\n",
       "    }\n",
       "\n",
       "    .dataframe tbody tr th {\n",
       "        vertical-align: top;\n",
       "    }\n",
       "\n",
       "    .dataframe thead th {\n",
       "        text-align: right;\n",
       "    }\n",
       "</style>\n",
       "<table border=\"1\" class=\"dataframe\">\n",
       "  <thead>\n",
       "    <tr style=\"text-align: right;\">\n",
       "      <th></th>\n",
       "      <th>A</th>\n",
       "      <th>B</th>\n",
       "      <th>C</th>\n",
       "      <th>D</th>\n",
       "    </tr>\n",
       "  </thead>\n",
       "  <tbody>\n",
       "    <tr>\n",
       "      <th>0</th>\n",
       "      <td>Sample001</td>\n",
       "      <td>10.050909</td>\n",
       "      <td>47.809380</td>\n",
       "      <td>0</td>\n",
       "    </tr>\n",
       "    <tr>\n",
       "      <th>1</th>\n",
       "      <td>Sample002</td>\n",
       "      <td>87.467438</td>\n",
       "      <td>16.073652</td>\n",
       "      <td>0</td>\n",
       "    </tr>\n",
       "    <tr>\n",
       "      <th>2</th>\n",
       "      <td>Sample003</td>\n",
       "      <td>52.592303</td>\n",
       "      <td>84.550920</td>\n",
       "      <td>0</td>\n",
       "    </tr>\n",
       "    <tr>\n",
       "      <th>3</th>\n",
       "      <td>Sample004</td>\n",
       "      <td>7.191352</td>\n",
       "      <td>97.149418</td>\n",
       "      <td>0</td>\n",
       "    </tr>\n",
       "    <tr>\n",
       "      <th>4</th>\n",
       "      <td>Sample005</td>\n",
       "      <td>7.247809</td>\n",
       "      <td>94.281273</td>\n",
       "      <td>0</td>\n",
       "    </tr>\n",
       "    <tr>\n",
       "      <th>5</th>\n",
       "      <td>Sample006</td>\n",
       "      <td>92.237988</td>\n",
       "      <td>67.519471</td>\n",
       "      <td>0</td>\n",
       "    </tr>\n",
       "    <tr>\n",
       "      <th>6</th>\n",
       "      <td>Sample007</td>\n",
       "      <td>18.459786</td>\n",
       "      <td>91.910198</td>\n",
       "      <td>0</td>\n",
       "    </tr>\n",
       "    <tr>\n",
       "      <th>7</th>\n",
       "      <td>Sample008</td>\n",
       "      <td>49.190417</td>\n",
       "      <td>14.685278</td>\n",
       "      <td>0</td>\n",
       "    </tr>\n",
       "    <tr>\n",
       "      <th>8</th>\n",
       "      <td>Sample009</td>\n",
       "      <td>75.550560</td>\n",
       "      <td>51.601866</td>\n",
       "      <td>0</td>\n",
       "    </tr>\n",
       "    <tr>\n",
       "      <th>9</th>\n",
       "      <td>Sample010</td>\n",
       "      <td>96.480584</td>\n",
       "      <td>73.379443</td>\n",
       "      <td>0</td>\n",
       "    </tr>\n",
       "    <tr>\n",
       "      <th>10</th>\n",
       "      <td>Sample011</td>\n",
       "      <td>94.653988</td>\n",
       "      <td>22.448392</td>\n",
       "      <td>0</td>\n",
       "    </tr>\n",
       "  </tbody>\n",
       "</table>\n",
       "</div>"
      ],
      "text/plain": [
       "            A          B          C  D\n",
       "0   Sample001  10.050909  47.809380  0\n",
       "1   Sample002  87.467438  16.073652  0\n",
       "2   Sample003  52.592303  84.550920  0\n",
       "3   Sample004   7.191352  97.149418  0\n",
       "4   Sample005   7.247809  94.281273  0\n",
       "5   Sample006  92.237988  67.519471  0\n",
       "6   Sample007  18.459786  91.910198  0\n",
       "7   Sample008  49.190417  14.685278  0\n",
       "8   Sample009  75.550560  51.601866  0\n",
       "9   Sample010  96.480584  73.379443  0\n",
       "10  Sample011  94.653988  22.448392  0"
      ]
     },
     "execution_count": 1,
     "metadata": {},
     "output_type": "execute_result"
    }
   ],
   "source": [
    "import numpy as np"
"import matplotlib.pyplot as plt"
"from numpy import random"
"norm = np.random.normal(size=(2,200))"
"x=norm[0,]"
"y=norm[1,]"
"uni = np.random.uniform(size=(2,200))"
"log = np.random.lognormal(size=(2,200))"
"epsilon = 0.1"
"mask = np.abs(x**2+1/3*y**2) < epsilon #Маска для распределения Капчинского"
"plt.subplot(3, 1, 1)"
"plt.scatter(norm[0, ], norm[1, ])"
"plt.scatter(x[mask], y[mask], color='orange', s=40, marker='o')"
"plt.subplot(3, 1, 2)"
"plt.scatter(uni[0, ], uni[1, ])"
"plt.subplot(3, 1, 3)"
"plt.scatter(log[0, ], log[1, ])"
"plt.show"
   ]
  }
 ],
 "metadata": {
  "kernelspec": {
   "display_name": "Python 3 (ipykernel)",
   "language": "python",
   "name": "python3"
  },
  "language_info": {
   "codemirror_mode": {
    "name": "ipython",
    "version": 3
   },
   "file_extension": ".py",
   "mimetype": "text/x-python",
   "name": "python",
   "nbconvert_exporter": "python",
   "pygments_lexer": "ipython3",
   "version": "3.7.12"
  }
 },
 "nbformat": 4,
 "nbformat_minor": 5
}
