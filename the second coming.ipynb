{
 "cells": [
  {
   "cell_type": "code",
   "execution_count": 1,
   "id": "ede86461-9bf1-4b4d-9e56-e4a69da236d8",
   "metadata": {},
   "source": [
    "#Make an example similar to input\n",
    "import pandas as pd\n",
    "import numpy as np\n",
    "import string\n",
    "col_num = 4\n",
    "df = pd.DataFrame(np.random.random((11,col_num))*100, columns=list(string.ascii_uppercase)[:col_num]) #columns letters of alphabet based on https://stackoverflow.com/a/48911848/8508004\n",
    "list = []\n",
    "for i in range(1, df.shape[0] + 1): # gets the length of the DataFrame.\n",
    "    list.append(f'Sample{i:03d}') # Using f-string for format and 03d for leading zeros.\n",
    "df['A'] = list\n",
    "df[\"D\"] = 0\n",
    "df"
   ]
  }
 ],
 "metadata": {
  "kernelspec": {
   "display_name": "Python 3 (ipykernel)",
   "language": "python",
   "name": "python3"
  },
  "language_info": {
   "codemirror_mode": {
    "name": "ipython",
    "version": 3
   },
   "file_extension": ".py",
   "mimetype": "text/x-python",
   "name": "python",
   "nbconvert_exporter": "python",
   "pygments_lexer": "ipython3",
   "version": "3.7.12"
  }
 },
 "nbformat": 4,
 "nbformat_minor": 5
}
