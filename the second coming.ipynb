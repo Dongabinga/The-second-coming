{
 "cells": [
  {
   "cell_type": "code",
   "execution_count": 1,
   "id": "ede86461-9bf1-4b4d-9e56-e4a69da236d8",
   "metadata": {},
   "outputs": [
    {
     "data": {
      "text/html": [
       
      ],
      "text/plain": [
       
      ]
     },
     "execution_count": 1,
     "metadata": {},
     "output_type": "execute_result"
    }
   ],
   "source": [
    "import numpy as np",
"import matplotlib.pyplot as plt",
"from numpy import random",
"norm = np.random.normal(size=(2,200))",
"x=norm[0,]",
"y=norm[1,]",
"uni = np.random.uniform(size=(2,200))",
"log = np.random.lognormal(size=(2,200))",
"epsilon = 0.1",
"mask = np.abs(x**2+1/3*y**2) < epsilon #Маска для распределения Капчинского",
"plt.subplot(3, 1, 1)",
"plt.scatter(norm[0, ], norm[1, ])",
"plt.scatter(x[mask], y[mask], color='orange', s=40, marker='o')",
"plt.subplot(3, 1, 2)",
"plt.scatter(uni[0, ], uni[1, ])",
"plt.subplot(3, 1, 3)",
"plt.scatter(log[0, ], log[1, ])",
"plt.show"
   ]
  }
 ],
 "metadata": {
  "kernelspec": {
   "display_name": "Python 3 (ipykernel)",
   "language": "python",
   "name": "python3"
  },
  "language_info": {
   "codemirror_mode": {
    "name": "ipython",
    "version": 3
   },
   "file_extension": ".py",
   "mimetype": "text/x-python",
   "name": "python",
   "nbconvert_exporter": "python",
   "pygments_lexer": "ipython3",
   "version": "3.7.12"
  }
 },
 "nbformat": 4,
 "nbformat_minor": 5
}
